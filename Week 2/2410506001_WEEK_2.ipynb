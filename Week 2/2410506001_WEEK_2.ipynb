{
 "cells": [
  {
   "cell_type": "markdown",
   "metadata": {
    "colab_type": "text",
    "id": "view-in-github"
   },
   "source": [
    "<a href=\"https://colab.research.google.com/github/figojulioez/Laporan-praktikum-Big-Data/blob/main/Week%201/2410506001_WEEK_1.ipynb\" target=\"_parent\"><img src=\"https://colab.research.google.com/assets/colab-badge.svg\" alt=\"Open In Colab\"/></a>"
   ]
  },
  {
   "cell_type": "markdown",
   "metadata": {
    "id": "JqGWns4anClR"
   },
   "source": [
    "## Latihan 1"
   ]
  },
  {
   "cell_type": "code",
   "execution_count": 1,
   "metadata": {
    "colab": {
     "base_uri": "https://localhost:8080/"
    },
    "id": "QTScCgKuspGT",
    "outputId": "89f8a74e-55be-4611-fe26-6eba39fd5b93"
   },
   "outputs": [
    {
     "name": "stderr",
     "output_type": "stream",
     "text": [
      "WARNING: Using incubator modules: jdk.incubator.vector\n",
      "Using Spark's default log4j profile: org/apache/spark/log4j2-defaults.properties\n",
      "25/09/01 01:48:47 WARN Utils: Your hostname, figo-Vostro-V131, resolves to a loopback address: 127.0.1.1; using 10.32.117.75 instead (on interface wlp9s0)\n",
      "25/09/01 01:48:47 WARN Utils: Set SPARK_LOCAL_IP if you need to bind to another address\n",
      "Using Spark's default log4j profile: org/apache/spark/log4j2-defaults.properties\n",
      "Setting default log level to \"WARN\".\n",
      "To adjust logging level use sc.setLogLevel(newLevel). For SparkR, use setLogLevel(newLevel).\n",
      "25/09/01 01:48:49 WARN NativeCodeLoader: Unable to load native-hadoop library for your platform... using builtin-java classes where applicable\n",
      "                                                                                "
     ]
    },
    {
     "name": "stdout",
     "output_type": "stream",
     "text": [
      "+-----+----+\n",
      "| Nama|Usia|\n",
      "+-----+----+\n",
      "|  Ali|  34|\n",
      "| Budi|  23|\n",
      "|Citra|  29|\n",
      "| Dina|  45|\n",
      "+-----+----+\n",
      "\n"
     ]
    }
   ],
   "source": [
    "# Melakukan import dari pyspark.sql untuk menggunakan SparkSession\n",
    "from pyspark.sql import SparkSession\n",
    "\n",
    "# Memulai Spark session hal ini dilakukan sebagai entry point untuk mengakses module - module dari pyspark\n",
    "spark = SparkSession.builder.appName(\"BigDataPractice\").getOrCreate()\n",
    "\n",
    "# Membuat DataFrame sederhana\n",
    "# DataFrame awalnya berupa array yang didalmmnya memiliki kumpulan data denga struktur data tuple dimana data pertama dalam tupple sebagai kolom pertama dan data kedua dalam tuple sebagai kolom kedua\n",
    "data = [(\"Ali\", 34), (\"Budi\", 23), (\"Citra\", 29), (\"Dina\", 45)]\n",
    "\n",
    "# Menentukan kolom atau field yang nantinya akan tampil di dataframe\n",
    "columns = [\"Nama\", \"Usia\"]\n",
    "\n",
    "# Menggunakan method createDataFrame untuk mengubah list dengan kumpulan tuple menjadi sebuah table\n",
    "df = spark.createDataFrame(data, columns)\n",
    "\n",
    "# Menampilkan DataFrame\n",
    "df.show()"
   ]
  },
  {
   "cell_type": "markdown",
   "metadata": {
    "id": "_Fy5wkWqnGsF"
   },
   "source": [
    "## TUGAS 1 Jalankan kode di atas dan buat modifikasi dengan menambahkan data lain berupa kolom pekerjaan, hobi dan gender."
   ]
  },
  {
   "cell_type": "code",
   "execution_count": 2,
   "metadata": {
    "colab": {
     "base_uri": "https://localhost:8080/"
    },
    "id": "AFx3X-qPnNZ3",
    "outputId": "544ad07e-010d-45db-a562-19a846a119bc"
   },
   "outputs": [
    {
     "name": "stderr",
     "output_type": "stream",
     "text": [
      "25/09/01 01:49:03 WARN SparkSession: Using an existing Spark session; only runtime SQL configurations will take effect.\n"
     ]
    },
    {
     "name": "stdout",
     "output_type": "stream",
     "text": [
      "+----+----+-------------+--------------+-----------+\n",
      "|Nama|Usia|    Pekerjaan|          Hobi|     Gender|\n",
      "+----+----+-------------+--------------+-----------+\n",
      "|Figo|  19|IT Programmer|        Futsal|Laki - laki|\n",
      "|Zico|  15|Web Developer| Nonton Drakor|Laki - laki|\n",
      "|Kana|   8| AI Developer|  Nonton Anime|Laki - laki|\n",
      "|Lala|  23|IT Consultant|Nonoton Dracin|  Perempuan|\n",
      "+----+----+-------------+--------------+-----------+\n",
      "\n"
     ]
    }
   ],
   "source": [
    "# Melakukan import dari pyspark.sql untuk menggunakan SparkSession\n",
    "from pyspark.sql import SparkSession\n",
    "\n",
    "# Memulai Spark session hal ini dilakukan sebagai entry point untuk mengakses module - module dari pyspark\n",
    "spark = SparkSession.builder.appName(\"FigoSession\").getOrCreate()\n",
    "\n",
    "# Membuat DataFrame sederhana\n",
    "# DataFrame awalnya berupa array yang didalmmnya memiliki kumpulan data denga struktur data tuple dimana data pertama dalam tupple sebagai kolom pertama dan data kedua dalam tuple sebagai kolom kedua\n",
    "data = [(\"Figo\", 19, \"IT Programmer\", \"Futsal\", \"Laki - laki\",), (\"Zico\", 15, \"Web Developer\", 'Nonton Drakor',\"Laki - laki\"), (\"Kana\", 8, \"AI Developer\",'Nonton Anime','Laki - laki'), (\"Lala\", 23, \"IT Consultant\", 'Nonoton Dracin',\"Perempuan\")]\n",
    "\n",
    "# Menentukan kolom atau field yang nantinya akan tampil di dataframe\n",
    "columns = [\"Nama\", \"Usia\", \"Pekerjaan\",'Hobi',\"Gender\"]\n",
    "\n",
    "# Menggunakan method createDataFrame untuk mengubah list dengan kumpulan tuple menjadi sebuah table\n",
    "df = spark.createDataFrame(data, columns)\n",
    "\n",
    "# Menampilkan DataFrame\n",
    "df.show()"
   ]
  },
  {
   "cell_type": "markdown",
   "metadata": {
    "id": "zpstZNHpJFkK"
   },
   "source": [
    "## Latihan 2"
   ]
  },
  {
   "cell_type": "code",
   "execution_count": 3,
   "metadata": {
    "colab": {
     "base_uri": "https://localhost:8080/"
    },
    "id": "2eo2poDAI50C",
    "outputId": "e1f574a8-bf79-4655-dcd2-2fff70ff75e6"
   },
   "outputs": [
    {
     "name": "stderr",
     "output_type": "stream",
     "text": [
      "25/09/01 01:49:03 WARN SparkSession: Using an existing Spark session; only runtime SQL configurations will take effect.\n"
     ]
    },
    {
     "name": "stdout",
     "output_type": "stream",
     "text": [
      "+-----+----+\n",
      "| Nama|Usia|\n",
      "+-----+----+\n",
      "|  Ali|  34|\n",
      "| Budi|  23|\n",
      "|Citra|  29|\n",
      "| Dina|  45|\n",
      "+-----+----+\n",
      "\n",
      "+----+----+\n",
      "|Nama|Usia|\n",
      "+----+----+\n",
      "| Ali|  34|\n",
      "|Dina|  45|\n",
      "+----+----+\n",
      "\n",
      "+---------+\n",
      "|avg(Usia)|\n",
      "+---------+\n",
      "|    32.75|\n",
      "+---------+\n",
      "\n",
      "+-----+----+\n",
      "| Nama|Usia|\n",
      "+-----+----+\n",
      "| Dina|  45|\n",
      "|  Ali|  34|\n",
      "|Citra|  29|\n",
      "| Budi|  23|\n",
      "+-----+----+\n",
      "\n"
     ]
    }
   ],
   "source": [
    "# Melakukan import dari pyspark.sql untuk menggunakan SparkSession\n",
    "from pyspark.sql import SparkSession\n",
    "\n",
    "# Memulai Spark session hal ini dilakukan sebagai entry point untuk mengakses module - module dari pyspark\n",
    "spark = SparkSession.builder.appName(\"BigDataPractice\").getOrCreate()\n",
    "\n",
    "# Membuat DataFrame sederhana\n",
    "# DataFrame awalnya berupa array yang didalmmnya memiliki kumpulan data denga struktur data tuple dimana data pertama dalam tupple sebagai kolom pertama dan data kedua dalam tuple sebagai kolom kedua\n",
    "data = [(\"Ali\", 34), (\"Budi\", 23), (\"Citra\", 29), (\"Dina\", 45)]\n",
    "\n",
    "# Menentukan kolom atau field yang nantinya akan tampil di dataframe\n",
    "columns = [\"Nama\", \"Usia\"]\n",
    "\n",
    "# Menggunakan method createDataFrame untuk mengubah list dengan kumpulan tuple menjadi sebuah table\n",
    "df = spark.createDataFrame(data, columns)\n",
    "\n",
    "# Menampilkan DataFrame\n",
    "df.show()\n",
    "\n",
    "# Filtering data\n",
    "# Filetering data berdasarkan field atau kolom usia dimana data yang ditampilkan hanya data yang usianya di atas 30\n",
    "# Hasil filtering akan disimpan pada variabel df_filtered\n",
    "df_filtered = df.filter(df['Usia'] > 30)\n",
    "# Menampilkan hasil filtering\n",
    "df_filtered.show()\n",
    "\n",
    "# Menghitung rata-rata usia\n",
    "# melakukan import dari pyspark.sql.function untuk menggunakan fungsi avg agar dapat menghitung rata - rata\n",
    "from pyspark.sql.functions import avg\n",
    "# DataFrame akan di grouping lalu menjalankan fungsi agregasi yaitu avg untuk menghitung rata - rata usia lalu menampilkan hasilnya\n",
    "df.groupBy().agg(avg(\"Usia\")).show()\n",
    "\n",
    "# Mengurutkan data berdasarkan usia\n",
    "# Melakukan pengurutan berdasarkan usia dimana pada parameter kedua asc nya false maka pengurutan dilakukan dari yang terbesar hingga terkecil\n",
    "df_sorted = df.orderBy(\"Usia\", ascending=False)\n",
    "# Menampilkan DataFrame yang sudah diurutkan\n",
    "df_sorted.show()\n"
   ]
  },
  {
   "cell_type": "markdown",
   "metadata": {
    "id": "oZrPDnLaLZq2"
   },
   "source": [
    "## Tugas 2 Lakukan filter, penghitungan rata-rata, dan pengurutan data menggunakan PySpark."
   ]
  },
  {
   "cell_type": "code",
   "execution_count": 4,
   "metadata": {
    "colab": {
     "base_uri": "https://localhost:8080/"
    },
    "id": "teeEjm9YMoO9",
    "outputId": "fe3cd238-e94c-495f-fe35-d76023e2d96a"
   },
   "outputs": [
    {
     "name": "stderr",
     "output_type": "stream",
     "text": [
      "25/09/01 01:49:07 WARN SparkSession: Using an existing Spark session; only runtime SQL configurations will take effect.\n"
     ]
    },
    {
     "name": "stdout",
     "output_type": "stream",
     "text": [
      "+-----------+-----+\n",
      "|Nama Barang|Harga|\n",
      "+-----------+-----+\n",
      "|  Sari Roti| 5000|\n",
      "+-----------+-----+\n",
      "\n",
      "+----------+\n",
      "|avg(Harga)|\n",
      "+----------+\n",
      "|    3125.0|\n",
      "+----------+\n",
      "\n",
      "+-----------+-----+\n",
      "|Nama Barang|Harga|\n",
      "+-----------+-----+\n",
      "|   Sunlight| 2000|\n",
      "|     Nabati| 2500|\n",
      "|    Indomie| 3000|\n",
      "|  Sari Roti| 5000|\n",
      "+-----------+-----+\n",
      "\n"
     ]
    }
   ],
   "source": [
    "# Melakukan import dari pyspark.sql untuk menggunakan SparkSession\n",
    "from pyspark.sql import SparkSession\n",
    "\n",
    "spark = SparkSession.builder.appName(\"SparkSession\").getOrCreate()\n",
    "\n",
    "# Membuat DataFrame sederhana\n",
    "# DataFrame awalnya berupa array yang didalmmnya memiliki kumpulan data denga struktur data tuple dimana data pertama dalam tupple sebagai kolom pertama dan data kedua dalam tuple sebagai kolom kedua\n",
    "data = [(\"Indomie\", 3000), (\"Sunlight\", 2000), (\"Sari Roti\", 5000), (\"Nabati\", 2500)]\n",
    "\n",
    "# Menentukan kolom atau field yang nantinya akan tampil di dataframe\n",
    "columns = [\"Nama Barang\", \"Harga\"]\n",
    "\n",
    "# Menggunakan method createDataFrame untuk mengubah list dengan kumpulan tuple menjadi sebuah table\n",
    "df = spark.createDataFrame(data, columns)\n",
    "\n",
    "# Filtering data\n",
    "# Filetering data berdasarkan field atau kolom usia dimana data yang ditampilkan hanya data yang usianya di atas 30\n",
    "# Hasil filtering akan disimpan pada variabel df_filtered\n",
    "df_filtered = df.filter(df['Harga'] > 3000)\n",
    "# Menampilkan hasil filtering\n",
    "df_filtered.show()\n",
    "\n",
    "\n",
    "# Menghitung rata-rata harga barang\n",
    "# melakukan import dari pyspark.sql.function untuk menggunakan fungsi avg agar dapat menghitung rata - rata\n",
    "from pyspark.sql.functions import avg\n",
    "# DataFrame akan di grouping lalu menjalankan fungsi agregasi yaitu avg untuk menghitung rata - rata harga barang lalu menampilkan hasilnya\n",
    "df.groupBy().agg(avg(df[\"Harga\"])).show()\n",
    "\n",
    "# Mengurutkan data berdasarkan Harga Barang\n",
    "# Melakukan pengurutan berdasarkan Harga Barang dimana pada parameter kedua asc nya true maka pengurutan dilakukan dari yang terkecil hingga terbesar\n",
    "df_sorted = df.orderBy(\"Harga\", ascending=True)\n",
    "# Menampilkan DataFrame yang sudah diurutkan\n",
    "df_sorted.show()\n"
   ]
  },
  {
   "cell_type": "markdown",
   "metadata": {
    "id": "qkRB9gIdX1i8"
   },
   "source": [
    "## Latihan 3"
   ]
  },
  {
   "cell_type": "code",
   "execution_count": 5,
   "metadata": {
    "colab": {
     "base_uri": "https://localhost:8080/",
     "height": 175
    },
    "id": "wFYLMt5iX6FU",
    "outputId": "54b57f8d-6605-467e-ebbf-f6ed3ccfecf7"
   },
   "outputs": [
    {
     "data": {
      "text/html": [
       "<div>\n",
       "<style scoped>\n",
       "    .dataframe tbody tr th:only-of-type {\n",
       "        vertical-align: middle;\n",
       "    }\n",
       "\n",
       "    .dataframe tbody tr th {\n",
       "        vertical-align: top;\n",
       "    }\n",
       "\n",
       "    .dataframe thead th {\n",
       "        text-align: right;\n",
       "    }\n",
       "</style>\n",
       "<table border=\"1\" class=\"dataframe\">\n",
       "  <thead>\n",
       "    <tr style=\"text-align: right;\">\n",
       "      <th></th>\n",
       "      <th>Nama</th>\n",
       "      <th>Usia</th>\n",
       "    </tr>\n",
       "  </thead>\n",
       "  <tbody>\n",
       "    <tr>\n",
       "      <th>0</th>\n",
       "      <td>Ali</td>\n",
       "      <td>34</td>\n",
       "    </tr>\n",
       "    <tr>\n",
       "      <th>1</th>\n",
       "      <td>Budi</td>\n",
       "      <td>23</td>\n",
       "    </tr>\n",
       "    <tr>\n",
       "      <th>2</th>\n",
       "      <td>Citra</td>\n",
       "      <td>29</td>\n",
       "    </tr>\n",
       "    <tr>\n",
       "      <th>3</th>\n",
       "      <td>Dina</td>\n",
       "      <td>45</td>\n",
       "    </tr>\n",
       "  </tbody>\n",
       "</table>\n",
       "</div>"
      ],
      "text/plain": [
       "    Nama  Usia\n",
       "0    Ali    34\n",
       "1   Budi    23\n",
       "2  Citra    29\n",
       "3   Dina    45"
      ]
     },
     "execution_count": 5,
     "metadata": {},
     "output_type": "execute_result"
    }
   ],
   "source": [
    "# mengimport module pandas lalu di berikan alias pd agar module dapat digunakan lebih ringkas\n",
    "import pandas as pd\n",
    "\n",
    "# Membuat DataFrame Pandas\n",
    "# Berbeda dengan pyspark dimana mengubah list dengan kumpulan tuple menjadi DataFrame di pandas mengubah sebuah Dictionary menjadi DataFrame\n",
    "data_pandas = {\"Nama\": [\"Ali\", \"Budi\", \"Citra\", \"Dina\"], \"Usia\": [34, 23, 29, 45]}\n",
    "# Mengubah dictionary yang dibuat menjadi sebuah DataFrame\n",
    "df_pandas = pd.DataFrame(data_pandas)\n",
    "\n",
    "# Menampilkan DataFrame Pandas\n",
    "df_pandas"
   ]
  },
  {
   "cell_type": "markdown",
   "metadata": {
    "id": "GYjrVLGzYdsH"
   },
   "source": [
    "## Tugas 3 Modifikasi DataFrame Pandas dengan menambahkan kolom baru dan melakukan operasi seperti filtering data berdasarkan usia."
   ]
  },
  {
   "cell_type": "code",
   "execution_count": 6,
   "metadata": {
    "colab": {
     "base_uri": "https://localhost:8080/",
     "height": 125
    },
    "id": "uuGuvZ7XYZD4",
    "outputId": "93b33576-5624-4522-88d5-d192ac6d4082"
   },
   "outputs": [
    {
     "data": {
      "text/html": [
       "<div>\n",
       "<style scoped>\n",
       "    .dataframe tbody tr th:only-of-type {\n",
       "        vertical-align: middle;\n",
       "    }\n",
       "\n",
       "    .dataframe tbody tr th {\n",
       "        vertical-align: top;\n",
       "    }\n",
       "\n",
       "    .dataframe thead th {\n",
       "        text-align: right;\n",
       "    }\n",
       "</style>\n",
       "<table border=\"1\" class=\"dataframe\">\n",
       "  <thead>\n",
       "    <tr style=\"text-align: right;\">\n",
       "      <th></th>\n",
       "      <th>Nama</th>\n",
       "      <th>Usia</th>\n",
       "      <th>Hobi</th>\n",
       "      <th>Pekerjaan</th>\n",
       "    </tr>\n",
       "  </thead>\n",
       "  <tbody>\n",
       "    <tr>\n",
       "      <th>0</th>\n",
       "      <td>Ali</td>\n",
       "      <td>34</td>\n",
       "      <td>Nonton Drakor</td>\n",
       "      <td>IT Consultant</td>\n",
       "    </tr>\n",
       "    <tr>\n",
       "      <th>3</th>\n",
       "      <td>Dina</td>\n",
       "      <td>45</td>\n",
       "      <td>Nonton Donghua</td>\n",
       "      <td>NEET</td>\n",
       "    </tr>\n",
       "  </tbody>\n",
       "</table>\n",
       "</div>"
      ],
      "text/plain": [
       "   Nama  Usia            Hobi      Pekerjaan\n",
       "0   Ali    34   Nonton Drakor  IT Consultant\n",
       "3  Dina    45  Nonton Donghua           NEET"
      ]
     },
     "execution_count": 6,
     "metadata": {},
     "output_type": "execute_result"
    }
   ],
   "source": [
    "# mengimport module pandas lalu di berikan alias pd agar module dapat digunakan lebih ringkas\n",
    "import pandas as pd\n",
    "\n",
    "# Membuat DataFrame Pandas\n",
    "# Berbeda dengan pyspark dimana mengubah list dengan kumpulan tuple menjadi DataFrame di pandas mengubah sebuah Dictionary menjadi DataFrame\n",
    "data_pandas = {\"Nama\": [\"Ali\", \"Budi\", \"Citra\", \"Dina\"], \"Usia\": [34, 23, 29, 45], \"Hobi\": [\"Nonton Drakor\", 'Nonton Dracin', 'Nonton Anime', 'Nonton Donghua'], \"Pekerjaan\" : ['IT Consultant', 'Web Developer', 'Programmer', 'NEET']}\n",
    "# Mengubah dictionary yang dibuat menjadi sebuah DataFrame\n",
    "df_pandas = pd.DataFrame(data_pandas)\n",
    "\n",
    "# melakukan pemfilteran pada pandas, pemfilteran dilakukan secara langsung tanpa method tambahan\n",
    "df_pandas_filtered_by_usia = df_pandas[df_pandas['Usia'] > 30]\n",
    "\n",
    "# Menampilkan DataFrame Pandas\n",
    "df_pandas_filtered_by_usia"
   ]
  },
  {
   "cell_type": "markdown",
   "metadata": {
    "id": "j3TBUzwajd6h"
   },
   "source": [
    "## LATIHAN 4"
   ]
  },
  {
   "cell_type": "code",
   "execution_count": 7,
   "metadata": {
    "colab": {
     "base_uri": "https://localhost:8080/",
     "height": 668
    },
    "id": "vkXExRsijdnF",
    "outputId": "d37ea96b-8e48-476b-b861-84713ca9dc8c"
   },
   "outputs": [
    {
     "name": "stdout",
     "output_type": "stream",
     "text": [
      "    Nama  Usia Pekerjaan\n",
      "0    Ali    34    Dokter\n",
      "1   Budi    23      Guru\n",
      "2  Citra    29  Insinyur\n",
      "3   Dina    45   Perawat\n",
      "            Usia\n",
      "count   4.000000\n",
      "mean   32.750000\n",
      "std     9.322911\n",
      "min    23.000000\n",
      "25%    27.500000\n",
      "50%    31.500000\n",
      "75%    36.750000\n",
      "max    45.000000\n"
     ]
    },
    {
     "data": {
      "image/png": "[encoded data removed]",
      "text/plain": [
       "<Figure size 640x480 with 1 Axes>"
      ]
     },
     "metadata": {},
     "output_type": "display_data"
    }
   ],
   "source": [
    "# mengimport module pandas lalu di berikan alias pd agar module dapat digunakan lebih ringkas\n",
    "import pandas as pd\n",
    "\n",
    "# Membuat DataFrame Pandas\n",
    "# Berbeda dengan pyspark dimana mengubah list dengan kumpulan tuple menjadi DataFrame di pandas mengubah sebuah Dictionary menjadi DataFrame\n",
    "data_pandas = {\"Nama\": [\"Ali\", \"Budi\", \"Citra\", \"Dina\"], \"Usia\": [34, 23, 29, 45]}\n",
    "# Mengubah dictionary yang dibuat menjadi sebuah DataFrame\n",
    "df_pandas = pd.DataFrame(data_pandas)\n",
    "\n",
    "# Membuat DataFrame kedua\n",
    "# Berbeda dengan pyspark dimana mengubah list dengan kumpulan tuple menjadi DataFrame di pandas mengubah sebuah Dictionary menjadi DataFrame\n",
    "data_pandas_2 = {\"Nama\": [\"Ali\", \"Budi\", \"Citra\", \"Dina\"], \"Pekerjaan\": [\"Dokter\", \"Guru\", \"Insinyur\", \"Perawat\"]}\n",
    "# Mengubah dictionary yang dibuat menjadi sebuah DataFrame\n",
    "df_pandas_2 = pd.DataFrame(data_pandas_2)\n",
    "\n",
    "# Join antara dua DataFrame\n",
    "# Melakukan join atau menyatukan 2 DataFrame antara df_pandas dengan df_pandas dimana penyatuan berdasarkan field atau key Nama\n",
    "df_joined = pd.merge(df_pandas, df_pandas_2, on=\"Nama\")\n",
    "# Menampilkan DataFrame\n",
    "print(df_joined)\n",
    "\n",
    "# Menghitung statistik deskriptif\n",
    "print(df_pandas.describe())\n",
    "\n",
    "# Plotting Data\n",
    "# Melakukan import library dari matplotlib untuk membuat grafik\n",
    "import matplotlib.pyplot as plt\n",
    "\n",
    "# grafik yang dibuat berdasarkan field usia dimana grafik yang digunakan bertipe bar\n",
    "df_pandas['Usia'].plot(kind='bar')\n",
    "plt.show()\n"
   ]
  },
  {
   "cell_type": "markdown",
   "metadata": {
    "id": "YzPrLuvfso2J"
   },
   "source": [
    "## Tugas 4 Lakukan penggabungan DataFrame dan visualisasikan data dengan Pandas."
   ]
  },
  {
   "cell_type": "code",
   "execution_count": 8,
   "metadata": {
    "colab": {
     "base_uri": "https://localhost:8080/",
     "height": 683
    },
    "id": "JLOC_jrhsneI",
    "outputId": "64ae62b4-1854-4387-8322-260d91af10cb"
   },
   "outputs": [
    {
     "name": "stdout",
     "output_type": "stream",
     "text": [
      "      Nama      Gaji       Job Desk\n",
      "0     Figo  90000000  IT Consultant\n",
      "1     Zico  12000000  Web Developer\n",
      "2     Kana  60000000     Programmer\n",
      "3  Sabrina  45000000           NEET\n",
      "               Gaji\n",
      "count  4.000000e+00\n",
      "mean   5.175000e+07\n",
      "std    3.243840e+07\n",
      "min    1.200000e+07\n",
      "25%    3.675000e+07\n",
      "50%    5.250000e+07\n",
      "75%    6.750000e+07\n",
      "max    9.000000e+07\n"
     ]
    },
    {
     "data": {
      "image/png": "[encoded data removed]",
      "text/plain": [
       "<Figure size 640x480 with 1 Axes>"
      ]
     },
     "metadata": {},
     "output_type": "display_data"
    }
   ],
   "source": [
    "# mengimport module pandas lalu di berikan alias pd agar module dapat digunakan lebih ringkas\n",
    "import pandas as pd\n",
    "\n",
    "# Membuat DataFrame Pandas\n",
    "# Berbeda dengan pyspark dimana mengubah list dengan kumpulan tuple menjadi DataFrame di pandas mengubah sebuah Dictionary menjadi DataFrame\n",
    "data_pandas = {\"Nama\": [\"Figo\", \"Zico\", \"Kana\", \"Sabrina\"], \"Gaji\": [90000000, 12000000, 60000000, 45000000]}\n",
    "# Mengubah dictionary yang dibuat menjadi sebuah DataFrame\n",
    "df_panda = pd.DataFrame(data_pandas)\n",
    "\n",
    "# Membuat DataFrame kedua\n",
    "# Berbeda dengan pyspark dimana mengubah list dengan kumpulan tuple menjadi DataFrame di pandas mengubah sebuah Dictionary menjadi DataFrame\n",
    "data_pandas_2 = {\"Nama\": [\"Figo\", \"Zico\", \"Kana\", \"Sabrina\"], \"Job Desk\": [\"IT Consultant\", \"Web Developer\", \"Programmer\", \"NEET\"]}\n",
    "# Mengubah dictionary yang dibuat menjadi sebuah DataFrame\n",
    "df_panda_2 = pd.DataFrame(data_pandas_2)\n",
    "\n",
    "# Join antara dua DataFrame\n",
    "# Melakukan join atau menyatukan 2 DataFrame antara df_panda dengan df_panda2 dimana penyatuan berdasarkan field atau key Nama\n",
    "df_joined = pd.merge(df_panda, df_panda_2, on=\"Nama\")\n",
    "# Menampilkan DataFrame\n",
    "print(df_joined)\n",
    "\n",
    "# Menghitung statistik deskriptif\n",
    "print(df_panda.describe())\n",
    "\n",
    "# Plotting Data\n",
    "# Melakukan import library dari matplotlib untuk membuat grafik\n",
    "import matplotlib.pyplot as plt\n",
    "\n",
    "# grafik yang dibuat berdasarkan field usia dimana grafik yang digunakan bertipe bar\n",
    "df_panda['Gaji'].plot(kind='bar')\n",
    "plt.show()\n",
    "\n"
   ]
  },
  {
   "cell_type": "markdown",
   "metadata": {
    "id": "avKwbxGYznlG"
   },
   "source": [
    "## Latihan 5"
   ]
  },
  {
   "cell_type": "code",
   "execution_count": 9,
   "metadata": {
    "colab": {
     "base_uri": "https://localhost:8080/"
    },
    "id": "oK3Vk42_zqg7",
    "outputId": "6c60bf70-9aea-4742-f994-b8ed854f8166"
   },
   "outputs": [
    {
     "name": "stdout",
     "output_type": "stream",
     "text": [
      "+-----+----+\n",
      "| Nama|Usia|\n",
      "+-----+----+\n",
      "|  Ali|  34|\n",
      "| Budi|  23|\n",
      "|Citra|  29|\n",
      "| Dina|  45|\n",
      "+-----+----+\n",
      "\n"
     ]
    },
    {
     "data": {
      "text/plain": [
       "(  Nama Barang  Harga\n",
       " 0     Indomie   3000\n",
       " 1    Sunlight   2000\n",
       " 2   Sari Roti   5000\n",
       " 3      Nabati   2500,\n",
       " None)"
      ]
     },
     "execution_count": 9,
     "metadata": {},
     "output_type": "execute_result"
    }
   ],
   "source": [
    "# Mengonversi DataFrame dari PySpark ke Pandas\n",
    "# Dari DataFrame spark yang berisi Nama Barang dan Harga diubah menjadi DataFrame Pandas\n",
    "df_pandas_from_spark = df.toPandas()\n",
    "\n",
    "# Mengonversi DataFrame dari Pandas ke PySpark\n",
    "# Dari DataFrame pandas yang berisi field nama dan usia diubah menjadi DataFrame Spark\n",
    "df_spark_from_pandas = spark.createDataFrame(df_pandas)\n",
    "\n",
    "# Menampilkan DataFrame hasil konversi\n",
    "df_pandas_from_spark, df_spark_from_pandas.show()"
   ]
  },
  {
   "cell_type": "markdown",
   "metadata": {
    "id": "Ou9CUNWj8re3"
   },
   "source": [
    "## Tugas 5  Gunakan metode ini untuk menggabungkan data yang Anda buat di PySpark dengan data dari Pandas, kemudian lakukan analisis sederhana seperti menghitung rata-rata usia."
   ]
  },
  {
   "cell_type": "code",
   "execution_count": 10,
   "metadata": {
    "colab": {
     "base_uri": "https://localhost:8080/"
    },
    "id": "8ta-1V3H8q9G",
    "outputId": "8782e858-e468-4e17-b96d-0f0f39783a33"
   },
   "outputs": [
    {
     "name": "stdout",
     "output_type": "stream",
     "text": [
      "   Nama  Usia      Pekerjaan\n",
      "0  Figo    19  IT Consultant\n",
      "1  Zico    20  Web Developer\n",
      "2  Kana    12     Programmer\n",
      "3  Lala    21           NEET\n"
     ]
    },
    {
     "name": "stderr",
     "output_type": "stream",
     "text": [
      "25/09/01 01:49:13 WARN SparkSession: Using an existing Spark session; only runtime SQL configurations will take effect.\n"
     ]
    },
    {
     "name": "stdout",
     "output_type": "stream",
     "text": [
      "+----+--------+\n",
      "|Nama|    Gaji|\n",
      "+----+--------+\n",
      "|Figo|20000000|\n",
      "|Zico|50000000|\n",
      "|Kana|15000000|\n",
      "|Lala|10000000|\n",
      "+----+--------+\n",
      "\n",
      "None\n",
      "   Nama      Gaji\n",
      "0  Figo  20000000\n",
      "1  Zico  50000000\n",
      "2  Kana  15000000\n",
      "3  Lala  10000000\n",
      "+-----+----+\n",
      "| Nama|Usia|\n",
      "+-----+----+\n",
      "|  Ali|  34|\n",
      "| Budi|  23|\n",
      "|Citra|  29|\n",
      "| Dina|  45|\n",
      "+-----+----+\n",
      "\n",
      "None\n",
      "   Nama      Gaji  Usia      Pekerjaan\n",
      "0  Figo  20000000    19  IT Consultant\n",
      "1  Zico  50000000    20  Web Developer\n",
      "2  Kana  15000000    12     Programmer\n",
      "3  Lala  10000000    21           NEET\n",
      "+---------+\n",
      "|avg(Usia)|\n",
      "+---------+\n",
      "|     18.0|\n",
      "+---------+\n",
      "\n"
     ]
    }
   ],
   "source": [
    "# Import module pandas dan pyspark\n",
    "import pandas as pd\n",
    "from pyspark.sql import SparkSession\n",
    "\n",
    "# Inisiasi entry point spark\n",
    "spark = SparkSession.builder.appName(\"Session Tugas 5\").getOrCreate()\n",
    "\n",
    "# Membuat sebuah dictionary untuk mengubahnya menjadi DataFrame pada pandas\n",
    "data_for_pandas = {\"Nama\": [\"Figo\", \"Zico\", \"Kana\", \"Lala\"], \"Usia\": [19, 20, 12, 21], \"Pekerjaan\": [\"IT Consultant\", \"Web Developer\", \"Programmer\", \"NEET\"]}\n",
    "\n",
    "# Membuat sebuah list yang didalamnya terdapat kumpulan tupple untuk mengubahnya menjadi DataFrame Spark\n",
    "data_for_spark = [(\"Figo\", 20000000), (\"Zico\", 50000000), (\"Kana\", 15000000), (\"Lala\", 10000000)]\n",
    "# Membuat kolom pada spark\n",
    "spark_col = [\"Nama\", \"Gaji\"]\n",
    "\n",
    "# Membuat DataFrame spark dan DataFrame pandas\n",
    "df_pandas = pd.DataFrame(data_for_pandas)\n",
    "df_spark = spark.createDataFrame(data_for_spark, spark_col)\n",
    "\n",
    "# Menampilkan DataFrame pandas dan DataFrame PySpark\n",
    "print(df_pandas)\n",
    "print(df_spark.show())\n",
    "\n",
    "# Mengubah DataFrame pandas dari spark\n",
    "df_pandas_from_spark = df_spark.toPandas()\n",
    "\n",
    "\n",
    "print(df_pandas_from_spark)\n",
    "print(df_spark_from_pandas.show())\n",
    "\n",
    "# Menggabungkan data yang dibuat dengan pandas dan pyspark berdasarkan nama\n",
    "df_merge = pd.merge(df_pandas_from_spark, df_pandas, on=\"Nama\")\n",
    "print(df_merge)\n",
    "\n",
    "# Mengubah DataFrame spark dari pandas\n",
    "df_spark_from_pandas = spark.createDataFrame(df_merge)\n",
    "\n",
    "# Membuat analisis untuk menghitung rata - rata usia\n",
    "# melakukan import dari pyspark.sql.function untuk menggunakan fungsi avg agar dapat menghitung rata - rata\n",
    "from pyspark.sql.functions import avg\n",
    "\n",
    "# DataFrame akan di grouping lalu menjalankan fungsi agregasi yaitu avg untuk menghitung rata - rata usia lalu menampilkan hasilnya\n",
    "df_spark_from_pandas.groupBy().agg(avg(df_spark_from_pandas[\"Usia\"])).show()"
   ]
  },
  {
   "cell_type": "markdown",
   "metadata": {
    "id": "BS8JtxfpG6LX"
   },
   "source": [
    "## Tugas 6 Gabungkan data dari PySpark dan Pandas, lalu lakukan operasi statistik seperti menghitung nilai maksimum usia."
   ]
  },
  {
   "cell_type": "code",
   "execution_count": 11,
   "metadata": {
    "colab": {
     "base_uri": "https://localhost:8080/"
    },
    "id": "NeyBcCQKHN08",
    "outputId": "903abffc-fdf1-40ab-aa73-d0adef700cc3"
   },
   "outputs": [
    {
     "name": "stdout",
     "output_type": "stream",
     "text": [
      "   Nama  Usia      Pekerjaan\n",
      "0  Figo    19  IT Consultant\n",
      "1  Zico    20  Web Developer\n",
      "2  Kana    12     Programmer\n",
      "3  Lala    21           NEET\n",
      "+----+--------+\n",
      "|Nama|    Gaji|\n",
      "+----+--------+\n",
      "|Figo|20000000|\n",
      "|Zico|50000000|\n",
      "|Kana|15000000|\n",
      "|Lala|10000000|\n",
      "+----+--------+\n",
      "\n",
      "None\n",
      "   Nama      Gaji\n",
      "0  Figo  20000000\n",
      "1  Zico  50000000\n",
      "2  Kana  15000000\n",
      "3  Lala  10000000\n",
      "+----+--------+----+-------------+\n",
      "|Nama|    Gaji|Usia|    Pekerjaan|\n",
      "+----+--------+----+-------------+\n",
      "|Figo|20000000|  19|IT Consultant|\n",
      "|Zico|50000000|  20|Web Developer|\n",
      "|Kana|15000000|  12|   Programmer|\n",
      "|Lala|10000000|  21|         NEET|\n",
      "+----+--------+----+-------------+\n",
      "\n",
      "None\n",
      "   Nama      Gaji  Usia      Pekerjaan\n",
      "0  Figo  20000000    19  IT Consultant\n",
      "1  Zico  50000000    20  Web Developer\n",
      "2  Kana  15000000    12     Programmer\n",
      "3  Lala  10000000    21           NEET\n",
      "+---------+\n",
      "|max(Usia)|\n",
      "+---------+\n",
      "|       21|\n",
      "+---------+\n",
      "\n"
     ]
    }
   ],
   "source": [
    "\n",
    "# Import module pandas dan pyspark\n",
    "import pandas as pd\n",
    "from pyspark.sql import SparkSession\n",
    "\n",
    "# Inisiasi entry point spark\n",
    "spark = SparkSession.builder.appName(\"Session Tugas 5\").getOrCreate()\n",
    "\n",
    "# Membuat sebuah dictionary untuk mengubahnya menjadi DataFrame pada pandas\n",
    "data_for_pandas = {\"Nama\": [\"Figo\", \"Zico\", \"Kana\", \"Lala\"], \"Usia\": [19, 20, 12, 21], \"Pekerjaan\": [\"IT Consultant\", \"Web Developer\", \"Programmer\", \"NEET\"]}\n",
    "\n",
    "# Membuat sebuah list yang didalamnya terdapat kumpulan tupple untuk mengubahnya menjadi DataFrame Spark\n",
    "data_for_spark = [(\"Figo\", 20000000), (\"Zico\", 50000000), (\"Kana\", 15000000), (\"Lala\", 10000000)]\n",
    "# Membuat kolom pada spark\n",
    "spark_col = [\"Nama\", \"Gaji\"]\n",
    "\n",
    "# Membuat DataFrame spark dan DataFrame pandas\n",
    "df_pandas = pd.DataFrame(data_for_pandas)\n",
    "df_spark = spark.createDataFrame(data_for_spark, spark_col)\n",
    "\n",
    "# Menampilkan DataFrame pandas dan DataFrame PySpark\n",
    "print(df_pandas)\n",
    "print(df_spark.show())\n",
    "\n",
    "# Mengubah DataFrame pandas dari spark\n",
    "df_pandas_from_spark = df_spark.toPandas()\n",
    "\n",
    "\n",
    "print(df_pandas_from_spark)\n",
    "print(df_spark_from_pandas.show())\n",
    "\n",
    "# Menggabungkan data yang dibuat dengan pandas dan pyspark berdasarkan nama\n",
    "df_merge = pd.merge(df_pandas_from_spark, df_pandas, on=\"Nama\")\n",
    "print(df_merge)\n",
    "\n",
    "# Mengubah DataFrame spark dari pandas\n",
    "df_spark_from_pandas = spark.createDataFrame(df_merge)\n",
    "\n",
    "# Membuat analisis untuk menghitung rata - rata usia\n",
    "# melakukan import dari pyspark.sql.function untuk menggunakan fungsi max agar dapat menghitung nilai maksimum\n",
    "from pyspark.sql.functions import max\n",
    "\n",
    "# DataFrame akan di grouping lalu menjalankan fungsi agregasi yaitu avg untuk menghitung nilai maksimum usia lalu menampilkan hasilnya\n",
    "df_spark_from_pandas.groupBy().agg(max(df_spark_from_pandas[\"Usia\"])).show()"
   ]
  }
 ],
 "metadata": {
  "colab": {
   "authorship_tag": "ABX9TyOW3d93bXLPPNMUinBNNiSD",
   "include_colab_link": true,
   "provenance": []
  },
  "kernelspec": {
   "display_name": "Python 3 (ipykernel)",
   "language": "python",
   "name": "python3"
  },
  "language_info": {
   "codemirror_mode": {
    "name": "ipython",
    "version": 3
   },
   "file_extension": ".py",
   "mimetype": "text/x-python",
   "name": "python",
   "nbconvert_exporter": "python",
   "pygments_lexer": "ipython3",
   "version": "3.13.5"
  }
 },
 "nbformat": 4,
 "nbformat_minor": 4
}
