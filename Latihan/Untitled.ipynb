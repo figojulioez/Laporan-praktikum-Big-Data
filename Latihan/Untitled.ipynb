{
 "cells": [
  {
   "cell_type": "code",
   "execution_count": 11,
   "id": "ee236742-02f2-4ba3-9291-55e096a3506f",
   "metadata": {},
   "outputs": [
    {
     "name": "stdout",
     "output_type": "stream",
     "text": [
      "+--------+------+\n",
      "|  KOLOM1|KOLOM2|\n",
      "+--------+------+\n",
      "| testing|     1|\n",
      "|testing2|     2|\n",
      "|testing3|     3|\n",
      "|testing4|     4|\n",
      "| testing|     5|\n",
      "|testing2|     6|\n",
      "|testing3|     7|\n",
      "|testing4|     8|\n",
      "+--------+------+\n",
      "\n"
     ]
    }
   ],
   "source": [
    "from pyspark.sql import SparkSession\n",
    "\n",
    "spark = SparkSession.builder.appName(\"Testing\").getOrCreate()\n",
    "\n",
    "df = spark.createDataFrame([('testing', 1), ('testing2', 2), ('testing3', 3), ('testing4', 4)], ['KOLOM1', 'KOLOM2'])\n",
    "df2 = spark.createDataFrame([('testing', 5), ('testing2', 6), ('testing3', 7), ('testing4', 8)], ['KOLOM1', 'KOLOM2'])\n",
    "\n",
    "df = df.union(df2)\n",
    "df.show()"
   ]
  },
  {
   "cell_type": "code",
   "execution_count": 34,
   "id": "434eec91-a561-4c5b-b935-fac785192916",
   "metadata": {},
   "outputs": [
    {
     "ename": "AttributeError",
     "evalue": "'list' object has no attribute 'join'",
     "output_type": "error",
     "traceback": [
      "\u001b[31m---------------------------------------------------------------------------\u001b[39m",
      "\u001b[31mAttributeError\u001b[39m                            Traceback (most recent call last)",
      "\u001b[36mCell\u001b[39m\u001b[36m \u001b[39m\u001b[32mIn[34]\u001b[39m\u001b[32m, line 7\u001b[39m\n\u001b[32m      4\u001b[39m a = df.toPandas()\n\u001b[32m      5\u001b[39m a = spark.createDataFrame(a)\n\u001b[32m----> \u001b[39m\u001b[32m7\u001b[39m \u001b[38;5;28mprint\u001b[39m([\u001b[33m'\u001b[39m\u001b[33masas\u001b[39m\u001b[33m'\u001b[39m, \u001b[33m'\u001b[39m\u001b[33masas\u001b[39m\u001b[33m'\u001b[39m].join())\n",
      "\u001b[31mAttributeError\u001b[39m: 'list' object has no attribute 'join'"
     ]
    }
   ],
   "source": [
    "hasil = df.select(df['KOLOM1']).filter(df['KOLOM1'] == 'testing')\n",
    "from pyspark.sql.functions import avg, max, rank\n",
    "from pyspark.sql.window import Window\n",
    "a = df.toPandas()\n",
    "a = spark.createDataFrame(a"
   ]
  }
 ],
 "metadata": {
  "kernelspec": {
   "display_name": "Python 3 (ipykernel)",
   "language": "python",
   "name": "python3"
  },
  "language_info": {
   "codemirror_mode": {
    "name": "ipython",
    "version": 3
   },
   "file_extension": ".py",
   "mimetype": "text/x-python",
   "name": "python",
   "nbconvert_exporter": "python",
   "pygments_lexer": "ipython3",
   "version": "3.13.5"
  }
 },
 "nbformat": 4,
 "nbformat_minor": 5
}
